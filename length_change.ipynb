{
 "cells": [
  {
   "cell_type": "code",
   "execution_count": 5,
   "id": "997ff019-4d0b-4b45-ae92-6c53b0feeb4b",
   "metadata": {
    "tags": []
   },
   "outputs": [],
   "source": [
    "import os\n",
    "import glob\n",
    "import numpy as np\n",
    "\n",
    "from tqdm import tqdm\n"
   ]
  },
  {
   "cell_type": "markdown",
   "id": "7a3fea00-a3a8-4b83-8cf9-9a1ec881bef6",
   "metadata": {},
   "source": [
    "# length_change"
   ]
  },
  {
   "cell_type": "code",
   "execution_count": 6,
   "id": "c589a428-abbf-47e1-84c7-ffcc38caca31",
   "metadata": {
    "tags": []
   },
   "outputs": [],
   "source": [
    "import numpy as np\n",
    "import os\n",
    "import glob\n",
    "from tqdm import tqdm\n",
    "\n",
    "def get_feature(input_dir, output_dir, length, dim, pca_model=\"None\"):\n",
    "    # Make output directory if it doesn't exist\n",
    "    if not os.path.exists(output_dir):\n",
    "        os.makedirs(output_dir)\n",
    "        \n",
    "    for i in tqdm(input_dir, desc=\"Processing\", unit=\"file\"):\n",
    "        name = os.path.basename(i).split(\".\")[0]\n",
    "        save_path = os.path.join(output_dir, f\"{name}.npy\")\n",
    "\n",
    "        try:\n",
    "            if dim == 768:\n",
    "                data = np.load(i).reshape(1, -1, dim)\n",
    "            else:\n",
    "                data = np.loadtxt(i).reshape(1, -1, dim)\n",
    "            \n",
    "            if data.shape[1] < length:\n",
    "                length_pad = length - data.shape[1]\n",
    "                data_pad = np.pad(data, [(0,0), (0,length_pad), (0,0)], mode='constant', constant_values=0)\n",
    "                np.save(save_path, data_pad)\n",
    "                \n",
    "            elif data.shape[1] > length:\n",
    "                data_resize = data[:, :length, :]\n",
    "                np.save(save_path, data_resize)\n",
    "    \n",
    "            else:\n",
    "                np.save(save_path, data)\n",
    "                \n",
    "        except Exception as e:\n",
    "            print(f\"Error processing file {i}: {e}\")"
   ]
  },
  {
   "cell_type": "code",
   "execution_count": 7,
   "id": "c51be126-ce4a-4379-8bc3-d9d475260bee",
   "metadata": {
    "tags": []
   },
   "outputs": [
    {
     "name": "stderr",
     "output_type": "stream",
     "text": [
      "Processing: 100%|████████████████████████████████████████████████████████████████| 780/780 [01:58<00:00,  6.58file/s]\n",
      "Processing: 100%|████████████████████████████████████████████████████████████████| 120/120 [00:17<00:00,  6.88file/s]\n",
      "Processing: 100%|████████████████████████████████████████████████████████████████| 600/600 [01:20<00:00,  7.41file/s]\n",
      "Processing: 100%|██████████████████████████████████████████████████████████████████| 60/60 [00:07<00:00,  8.02file/s]\n"
     ]
    }
   ],
   "source": [
    "# Parameters\n",
    "dim = 1024\n",
    "length = 1000\n",
    "FEATURE = \"pt\"\n",
    "\n",
    "# Input directories\n",
    "if FEATURE == \"pt\":\n",
    "    Sodium_train = glob.glob(\"C:/jupyter/Malik/SodiumTransporters/ProtTrans/Trans/Train/*\")\n",
    "    Sodium_test = glob.glob(\"C:/jupyter/Malik/SodiumTransporters/ProtTrans/Trans/Test/*\")\n",
    "    Memb_train = glob.glob(\"C:/jupyter/Malik/SodiumTransporters/ProtTrans/Non_Trans/Train/*\")\n",
    "    Memb_test = glob.glob(\"C:/jupyter/Malik/SodiumTransporters/ProtTrans/Non_Trans/Test/*\")\n",
    "if FEATURE == \"esm1b\":\n",
    "    Sodium_train = glob.glob(\"C:/jupyter/Malik/SodiumTransporters/ESM1b/Sodium/Train/*\")\n",
    "    Sodium_test = glob.glob(\"C:/jupyter/Malik/SodiumTransporters/ESM1b/Sodium/Test/*\")\n",
    "    Memb_train = glob.glob(\"C:/jupyter/Malik/SodiumTransporters/ESM1b/Membrane/Train/*\")\n",
    "    Memb_test = glob.glob(\"C:/jupyter/Malik/SodiumTransporters/ESM1b/Membrane/Test/*\")\n",
    "\n",
    "if FEATURE == \"esm2\":\n",
    "    Sodium_train = glob.glob(\"C:/jupyter/Malik/SodiumTransporters/ESM2/Sodium/Train/*\")\n",
    "    Sodium_test = glob.glob(\"C:/jupyter/Malik/SodiumTransporters/ESM2/Sodium/Test/*\")\n",
    "    Memb_train = glob.glob(\"C:/jupyter/Malik/SodiumTransporters/ESM2/Membrane/Train/*\")\n",
    "    Memb_test = glob.glob(\"C:/jupyter/Malik/SodiumTransporters/ESM2/Membrane/Test/*\")\n",
    "# Output directories\n",
    "Sodium_train_out = f\"get_feature/{FEATURE}_d{dim}_L{length}/Transporters/Train/\"\n",
    "Sodium_test_out = f\"get_feature/{FEATURE}_d{dim}_L{length}/Transporters/Test/\"\n",
    "Memb_train_out = f\"get_feature/{FEATURE}_d{dim}_L{length}/Non_Trans/Train/\"\n",
    "Memb_test_out = f\"get_feature/{FEATURE}_d{dim}_L{length}/Non_Trans/Test/\"\n",
    "\n",
    "# Process files\n",
    "get_feature(Sodium_train, Sodium_train_out, length, dim)\n",
    "get_feature(Sodium_test, Sodium_test_out, length, dim)\n",
    "get_feature(Memb_train, Memb_train_out, length, dim)\n",
    "get_feature(Memb_test, Memb_test_out, length, dim)"
   ]
  },
  {
   "cell_type": "markdown",
   "id": "7a0a9580-b431-468b-9da1-59676b9ce092",
   "metadata": {},
   "source": [
    "# check"
   ]
  },
  {
   "cell_type": "code",
   "execution_count": 8,
   "id": "c493b2ea-f560-443e-b37a-84e2fd7701e3",
   "metadata": {},
   "outputs": [
    {
     "data": {
      "text/plain": [
       "(1, 1000, 1024)"
      ]
     },
     "execution_count": 8,
     "metadata": {},
     "output_type": "execute_result"
    }
   ],
   "source": [
    "a = np.load(\"C:/jupyter/Malik/SodiumTransporters/Code/Features/get_feature/pt_d1024_L1000/Transporters/Train/A0QQ68.npy\")\n",
    "a.shape"
   ]
  },
  {
   "cell_type": "code",
   "execution_count": 3,
   "id": "c6d8e9b2-ae21-4a16-9716-e5902b8b09a0",
   "metadata": {},
   "outputs": [
    {
     "data": {
      "text/plain": [
       "(1, 1000, 768)"
      ]
     },
     "execution_count": 3,
     "metadata": {},
     "output_type": "execute_result"
    }
   ],
   "source": [
    "a = np.load(\"C:/jupyter/Malik/SodiumTransporters/Tape/Membrane/Train/A0A0B4J1Y8.npy\")\n",
    "a.shape"
   ]
  },
  {
   "cell_type": "code",
   "execution_count": null,
   "id": "95bffb0a-f43d-4e13-8f72-8ad6ad5fac93",
   "metadata": {},
   "outputs": [],
   "source": []
  }
 ],
 "metadata": {
  "kernelspec": {
   "display_name": "Python 3 (ipykernel)",
   "language": "python",
   "name": "python3"
  },
  "language_info": {
   "codemirror_mode": {
    "name": "ipython",
    "version": 3
   },
   "file_extension": ".py",
   "mimetype": "text/x-python",
   "name": "python",
   "nbconvert_exporter": "python",
   "pygments_lexer": "ipython3",
   "version": "3.9.19"
  }
 },
 "nbformat": 4,
 "nbformat_minor": 5
}
