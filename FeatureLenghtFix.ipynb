{
 "cells": [
  {
   "cell_type": "code",
   "execution_count": null,
   "id": "8e2a6b08",
   "metadata": {},
   "outputs": [],
   "source": [
    "import os\n",
    "import glob\n",
    "import numpy as np\n",
    "\n",
    "from tqdm import tqdm\n"
   ]
  },
  {
   "cell_type": "markdown",
   "id": "b461470a",
   "metadata": {},
   "source": [
    "# length_change"
   ]
  },
  {
   "cell_type": "code",
   "execution_count": null,
   "id": "3f8ee166",
   "metadata": {},
   "outputs": [],
   "source": [
    "def get_feature(input_dir, output_dir,  lenght, dim, pca_model=\"None\"):\n",
    "    # mkdir\n",
    "    if not os.path.exists(output_dir):\n",
    "        os.makedirs(output_dir)\n",
    "        \n",
    "    for i in tqdm(input_dir, desc=\"Processing\", unit=\"file\"):\n",
    "        name = os.path.basename(i).split(\".\")[0]\n",
    "        save_path = os.path.join(output_dir, name)\n",
    "\n",
    "        if dim == 768:\n",
    "            data = np.load(i).reshape(1, -1, dim)\n",
    "        else:\n",
    "            data = np.loadtxt(i).reshape(1, -1, dim)\n",
    "\n",
    "            \n",
    "        if data.shape[1] < lenght:\n",
    "            lenght_pad = lenght - data.shape[1]\n",
    "            data_pad = np.pad(data, [(0,0), (0,lenght_pad), (0,0)], mode='constant', constant_values=0)\n",
    "            np.save(save_path, data_pad)\n",
    "            \n",
    "        elif data.shape[1] > lenght:\n",
    "            data_resize = data[:, :lenght, :]\n",
    "            np.save(save_path, data_resize)\n",
    "    \n",
    "        else:\n",
    "            np.save(save_path, data)"
   ]
  },
  {
   "cell_type": "code",
   "execution_count": null,
   "id": "15c730c7",
   "metadata": {},
   "outputs": [],
   "source": [
    "# 1024 or 768 or 1280\n",
    "dim = 20\n",
    "\n",
    "lenght = 1200\n",
    "\n",
    "# \"pt\" or \"tape\" or \"esm2\"\n",
    "FEATURE = \"binary\"\n",
    "\n",
    "\n",
    "\"---------------------------- input dir ----------------------------\"\n",
    "# ProtTrans\n",
    "if FEATURE == \"pt\":\n",
    "    Sodium_train = glob.glob(\"D:/Malik/SATs/Sodium vs others/Prottrans/Sodium/Train/*\")\n",
    "    Sodium_test = glob.glob(\"D:/Malik/SATs/Sodium vs others/Prottrans/Sodium/Test/*\")\n",
    "    other_train = glob.glob(\"D:/Malik/SATs/Sodium vs others/Prottrans/Other SATs/Train/*\")\n",
    "    other_test = glob.glob(\"D:/Malik/SATs/Sodium vs others/Prottrans/Other SATs/Test/*\")\n",
    "\n",
    "# TAPE\n",
    "elif FEATURE == \"tape\":\n",
    "    Amino_train = glob.glob(\"PT_out/ionchannels/train/*\")\n",
    "    Amino_test = glob.glob(\"PT_out/ionchannels/test/*\")\n",
    "    other_train = glob.glob(\"PT_out/iontransporters/train/*\")\n",
    "    other_test = glob.glob(\"PT_out/iontransporters/test/*\")\n",
    "\n",
    "elif FEATURE == \"pssm\" or FEATURE == \"binary\":\n",
    "    Sodium_train = glob.glob(\"D:/Malik/SATs/Sodium vs others/Binary/Sodium/Train/*\")\n",
    "    Sodium_test = glob.glob(\"D:/Malik/SATs/Sodium vs others/Binary/Sodium/Test/*\")\n",
    "    other_train = glob.glob(\"D:/Malik/SATs/Sodium vs others/Binary/Other/Train/*\")\n",
    "    other_test = glob.glob(\"D:/Malik/SATs/Sodium vs others/Binary/Other/Test/*\")\n",
    "# esm\n",
    "elif FEATURE == \"esm2\" or FEATURE == \"esm1b\":\n",
    "    Sodium_train = glob.glob(\"D:/Malik/SATs/Sodium vs others/ESM_1b/Sodium/Train/*\")\n",
    "    Sodium_test = glob.glob(\"D:/Malik/SATs/Sodium vs others/ESM_1b/Sodium/Test/*\")\n",
    "    other_train = glob.glob(\"D:/Malik/SATs/Sodium vs others/Binary/Other/Train/*\")\n",
    "    other_test = glob.glob(\"D:/Malik/SATs/Sodium vs others/Binary/Other/Test/*\")\n",
    "\n",
    "print(len(Sodium_train))\n",
    "print(len(Sodium_test))\n",
    "print(len(other_train))\n",
    "print(len(other_test))\n",
    "\n",
    "\n",
    "\"---------------------------- output dir ----------------------------\"\n",
    "Sodium_train_out = f\"get_feature/{FEATURE}_d{dim}_L{lenght}/Sodium/train/\"\n",
    "Sodium_test_out = f\"get_feature/{FEATURE}_d{dim}_L{lenght}/Sodium/test/\"\n",
    "other_train_out = f\"get_feature/{FEATURE}_d{dim}_L{lenght}/Other_Sats/train/\"\n",
    "other_test_out = f\"get_feature/{FEATURE}_d{dim}_L{lenght}/Other_Sats/test/\"\n",
    "\n",
    "\"---------------------------- funtion ----------------------------\"\n",
    "get_feature(Sodium_train, Sodium_train_out, lenght, dim)\n",
    "get_feature(Sodium_test, Sodium_test_out, lenght, dim)\n",
    "\n",
    "get_feature(other_train, other_train_out, lenght, dim)\n",
    "get_feature(other_test, other_test_out, lenght, dim)\n",
    "\n"
   ]
  },
  {
   "cell_type": "markdown",
   "id": "d726a67f",
   "metadata": {},
   "source": [
    "# Check"
   ]
  },
  {
   "cell_type": "code",
   "execution_count": null,
   "id": "1b73beb1",
   "metadata": {},
   "outputs": [],
   "source": [
    "a = np.load(\"get_feature/esm2_d1280_L1000/ionchannels/test/A0MD31.npy\")\n",
    "a.shape"
   ]
  },
  {
   "cell_type": "markdown",
   "id": "de7f84c5",
   "metadata": {},
   "source": [
    "## For SLC data"
   ]
  },
  {
   "cell_type": "code",
   "execution_count": null,
   "id": "2184f8ee",
   "metadata": {},
   "outputs": [],
   "source": [
    "# 1024 or 768 or 1280\n",
    "dim = 1024\n",
    "\n",
    "lenght = 1200\n",
    "\n",
    "# \"pt\" or \"tape\" or \"esm2\"\n",
    "FEATURE = \"pt\"\n",
    "\n",
    "\n",
    "\"---------------------------- input dir ----------------------------\"\n",
    "# ProtTrans\n",
    "if FEATURE == \"pt\":\n",
    "    Amino = glob.glob(\"D:/Malik/SATs/Amino acid vs others/Prottrans/SLC/Amino acid/*\")\n",
    "    Sodium = glob.glob(\"D:/Malik/SATs/Amino acid vs others/Prottrans/SLC/Sodium/*\")\n",
    "    Sugar = glob.glob(\"D:/Malik/SATs/Amino acid vs others/Prottrans/SLC/Sugar/*\")\n",
    "\n",
    "# TAPE\n",
    "elif FEATURE == \"tape\":\n",
    "    Amino_train = glob.glob(\"PT_out/ionchannels/train/*\")\n",
    "    Amino_test = glob.glob(\"PT_out/ionchannels/test/*\")\n",
    "    other_train = glob.glob(\"PT_out/iontransporters/train/*\")\n",
    "    other_test = glob.glob(\"PT_out/iontransporters/test/*\")\n",
    "\n",
    "# esm\n",
    "elif FEATURE == \"esm2\" or FEATURE == \"esm1b\":\n",
    "    Amino_train = glob.glob(\"PT_out/ionchannels/train/*\")\n",
    "    Amino_test = glob.glob(\"PT_out/ionchannels/test/*\")\n",
    "    other_train = glob.glob(\"PT_out/iontransporters/train/*\")\n",
    "    other_test = glob.glob(\"PT_out/iontransporters/test/*\")\n",
    "\n",
    "print(len(Amino))\n",
    "print(len(Sodium))\n",
    "print(len(Sugar))\n",
    "\n",
    "\n",
    "\"---------------------------- output dir ----------------------------\"\n",
    "Amino_out = f\"get_feature/{FEATURE}_d{dim}_L{lenght}/SLC/Amino/\"\n",
    "Sodium_out = f\"get_feature/{FEATURE}_d{dim}_L{lenght}/SLC/Sodium/\"\n",
    "Sugar_out = f\"get_feature/{FEATURE}_d{dim}_L{lenght}/SLC/Sugar/\"\n",
    "\n",
    "\"---------------------------- funtion ----------------------------\"\n",
    "get_feature(Amino, Amino_out, lenght, dim)\n",
    "get_feature(Sodium, Sodium_out, lenght, dim)\n",
    "\n",
    "get_feature(Sugar, Sugar_out, lenght, dim)"
   ]
  },
  {
   "cell_type": "code",
   "execution_count": null,
   "id": "681c9409",
   "metadata": {},
   "outputs": [],
   "source": []
  }
 ],
 "metadata": {
  "kernelspec": {
   "display_name": "Python 3 (ipykernel)",
   "language": "python",
   "name": "python3"
  },
  "language_info": {
   "codemirror_mode": {
    "name": "ipython",
    "version": 3
   },
   "file_extension": ".py",
   "mimetype": "text/x-python",
   "name": "python",
   "nbconvert_exporter": "python",
   "pygments_lexer": "ipython3",
   "version": "3.11.5"
  }
 },
 "nbformat": 4,
 "nbformat_minor": 5
}
