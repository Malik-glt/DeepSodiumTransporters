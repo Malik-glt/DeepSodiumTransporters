{
 "cells": [
  {
   "cell_type": "markdown",
   "id": "271c45cf-e40c-417c-a83e-03b375add143",
   "metadata": {
    "editable": true,
    "slideshow": {
     "slide_type": ""
    },
    "tags": []
   },
   "source": [
    "# Dependency"
   ]
  },
  {
   "cell_type": "code",
   "execution_count": 1,
   "id": "8bbd76d2-6c8b-4901-896e-85c3a298082a",
   "metadata": {
    "editable": true,
    "scrolled": true,
    "slideshow": {
     "slide_type": ""
    },
    "tags": []
   },
   "outputs": [],
   "source": [
    "import h5py\n",
    "import os\n",
    "import pickle\n",
    "from tqdm import tqdm\n",
    "from time import gmtime, strftime\n",
    "import numpy as np\n",
    "import math\n",
    "from sklearn import metrics\n",
    "from sklearn.metrics import roc_curve, confusion_matrix, roc_auc_score\n",
    "import tensorflow as tf\n",
    "from tensorflow.keras import layers,Model\n",
    "from sklearn.model_selection import KFold\n",
    "import gc\n",
    "import time\n",
    "from sklearn.model_selection import KFold\n",
    "import import_test as data_load"
   ]
  },
  {
   "cell_type": "markdown",
   "id": "0b1e9da3-3fb9-4ed6-a197-380544b91cf7",
   "metadata": {
    "tags": []
   },
   "source": [
    "# PARAM"
   ]
  },
  {
   "cell_type": "code",
   "execution_count": 2,
   "id": "0851d5dd-21d4-4182-8fa5-2027de0091de",
   "metadata": {
    "editable": true,
    "slideshow": {
     "slide_type": ""
    },
    "tags": []
   },
   "outputs": [],
   "source": [
    "MAX_SEQ_LENGTH= 1100\n",
    "#NUM_FEATURE = 1024\n",
    "NUM_FEATURE = 1024 # esm1 & 2 a\n",
    "NUM_FILTER = 64\n",
    "NUM_HIDDEN = 512#100\n",
    "BATCH_SIZE  = 32\n",
    "WINDOW_SIZES = [4, 8, 16]\n",
    "NUM_CLASSES = 2\n",
    "CLASS_NAMES = ['1','0']\n",
    "EPOCHS      =25\n",
    "K_Fold = 5\n",
    "VALIDATION_MODE=\"independent\" # cross or independent\n",
    "class_names = [\"Sodium\", \"Membrane\"]"
   ]
  },
  {
   "cell_type": "markdown",
   "id": "aa05e524-dd38-4d5e-b680-bce14e4b283e",
   "metadata": {
    "tags": []
   },
   "source": [
    "# Data Loader Function"
   ]
  },
  {
   "cell_type": "code",
   "execution_count": 9,
   "id": "e76b19ad-fe13-4669-b0ba-97fff75bb19e",
   "metadata": {
    "editable": true,
    "slideshow": {
     "slide_type": ""
    },
    "tags": []
   },
   "outputs": [
    {
     "data": {
      "text/plain": [
       "'----------------------------------------------------------------------------------------------------'"
      ]
     },
     "execution_count": 9,
     "metadata": {},
     "output_type": "execute_result"
    }
   ],
   "source": [
    "\"----------------------------------------------------------------------------------------------------\"\n",
    "# model fit batch funtion\n",
    "class DataGenerator(tf.keras.utils.Sequence):\n",
    "    def __init__(self, data, labels, batch_size):\n",
    "        self.data = data\n",
    "        self.labels = labels\n",
    "        self.batch_size = batch_size\n",
    "        self.indexes = np.arange(len(self.data))\n",
    "    def __len__(self):\n",
    "        return int(np.ceil(len(self.data) / self.batch_size))\n",
    "    def __getitem__(self, index):\n",
    "        batch_indexes = self.indexes[index * self.batch_size:(index + 1) * self.batch_size]\n",
    "        batch_data = [self.data[i] for i in batch_indexes]\n",
    "        batch_labels = [self.labels[i] for i in batch_indexes]\n",
    "        return np.array(batch_data), np.array(batch_labels)\n",
    "    \n",
    "\"----------------------------------------------------------------------------------------------------\""
   ]
  },
  {
   "cell_type": "code",
   "execution_count": 4,
   "id": "5e8f015c-b945-4b70-b22d-3db7c025a83c",
   "metadata": {},
   "outputs": [],
   "source": [
    "write_data=[]\n",
    "write_data.append(NUM_FEATURE)\n",
    "write_data.append(BATCH_SIZE)\n",
    "write_data.append(NUM_HIDDEN)\n",
    "write_data.append(WINDOW_SIZES)\n",
    "write_data.append(NUM_FILTER)\n",
    "write_data.append(VALIDATION_MODE)"
   ]
  },
  {
   "cell_type": "markdown",
   "id": "5156a238-4a41-41db-9d33-3ec4d34e46e0",
   "metadata": {
    "tags": []
   },
   "source": [
    "## MCNN model"
   ]
  },
  {
   "cell_type": "code",
   "execution_count": 5,
   "id": "c214e507-c18f-4889-b61c-e6b689b62d1a",
   "metadata": {
    "tags": []
   },
   "outputs": [],
   "source": [
    "class DeepScan(Model):\n",
    "\n",
    "\tdef __init__(self,\n",
    "\t             input_shape=(1, MAX_SEQ_LENGTH, NUM_FEATURE),\n",
    "\t             window_sizes=WINDOW_SIZES,\n",
    "\t             num_filters=NUM_FILTER,\n",
    "\t             num_hidden=NUM_HIDDEN):\n",
    "\t\tsuper(DeepScan, self).__init__()\n",
    "\t\t# Add input layer\n",
    "\t\tself.input_layer = tf.keras.Input(input_shape)\n",
    "\t\tself.window_sizes = window_sizes\n",
    "\t\tself.conv2d = []\n",
    "\t\tself.maxpool = []\n",
    "\t\tself.flatten = []\n",
    "\t\tfor window_size in self.window_sizes:\n",
    "\t\t\tself.conv2d.append(\n",
    "\t\t\t layers.Conv2D(filters=num_filters,\n",
    "\t\t\t               kernel_size=(1, window_size),\n",
    "\t\t\t               activation=tf.nn.relu,\n",
    "\t\t\t               padding='valid',\n",
    "\t\t\t               bias_initializer=tf.constant_initializer(0.1),\n",
    "\t\t\t               kernel_initializer=tf.keras.initializers.GlorotUniform()))\n",
    "\t\t\tself.maxpool.append(\n",
    "\t\t\t layers.MaxPooling2D(pool_size=(1, MAX_SEQ_LENGTH - window_size + 1),\n",
    "\t\t\t                     strides=(1, MAX_SEQ_LENGTH),\n",
    "\t\t\t                     padding='valid'))\n",
    "\t\t\tself.flatten.append(layers.Flatten())\n",
    "\t\tself.dropout = layers.Dropout(rate=0.7)\n",
    "\t\tself.fc1 = layers.Dense(\n",
    "\t\t num_hidden,\n",
    "\t\t activation=tf.nn.relu,\n",
    "\t\t bias_initializer=tf.constant_initializer(0.1),\n",
    "\t\t kernel_initializer=tf.keras.initializers.GlorotUniform())\n",
    "\t\tself.fc2 = layers.Dense(NUM_CLASSES,\n",
    "\t\t                        activation='softmax',\n",
    "\t\t                        kernel_regularizer=tf.keras.regularizers.l2(1e-3))\n",
    "\n",
    "\t\t# Get output layer with `call` method\n",
    "\t\tself.out = self.call(self.input_layer)\n",
    "\n",
    "\tdef call(self, x, training=False):\n",
    "\t\t_x = []\n",
    "\t\tfor i in range(len(self.window_sizes)):\n",
    "\t\t\tx_conv = self.conv2d[i](x)\n",
    "\t\t\tx_maxp = self.maxpool[i](x_conv)\n",
    "\t\t\tx_flat = self.flatten[i](x_maxp)\n",
    "\t\t\t_x.append(x_flat)\n",
    "\n",
    "\t\tx = tf.concat(_x, 1)\n",
    "\t\tx = self.dropout(x, training=training)\n",
    "\t\tx = self.fc1(x)\n",
    "\t\tx = self.fc2(x)  #Best Threshold\n",
    "\t\treturn x"
   ]
  },
  {
   "cell_type": "code",
   "execution_count": 6,
   "id": "61aa9521-9365-40b1-95ba-320fce1ccad8",
   "metadata": {
    "editable": true,
    "slideshow": {
     "slide_type": ""
    },
    "tags": []
   },
   "outputs": [],
   "source": [
    "def model_test(model, x_test, y_test, classifier_name='mCNN'):\n",
    "    print(x_test.shape)\n",
    "    pred_test = model.predict(x_test)\n",
    "    fpr, tpr, thresholds = roc_curve(y_test[:, 1], pred_test[:, 1])\n",
    "    AUC = metrics.auc(fpr, tpr)\n",
    "\n",
    "    # Display ROC curve\n",
    "    display = metrics.RocCurveDisplay(fpr=fpr, tpr=tpr, roc_auc=AUC, estimator_name=classifier_name)\n",
    "    display.plot()\n",
    "\n",
    "    # Calculate G-mean and best threshold\n",
    "    gmeans = np.sqrt(tpr * (1-fpr))\n",
    "    ix = np.argmax(gmeans)\n",
    "    print(f'Best Threshold={thresholds[ix]}, G-Mean={gmeans[ix]}')\n",
    "    threshold = thresholds[ix]\n",
    "\n",
    "    # Predict using the best threshold\n",
    "    y_pred = (pred_test[:, 1] >= threshold).astype(int)\n",
    "\n",
    "    # Calculate confusion matrix and metrics\n",
    "    TN, FP, FN, TP = metrics.confusion_matrix(y_test[:,1], y_pred).ravel()\n",
    "    Sens = TP/(TP+FN) if TP+FN > 0 else 0.0\n",
    "    Spec = TN/(FP+TN) if FP+TN > 0 else 0.0\n",
    "    Acc = (TP+TN)/(TP+FP+TN+FN)\n",
    "    MCC = (TP*TN-FP*FN)/math.sqrt((TP+FP)*(TP+FN)*(TN+FP)*(TN+FN)) if TP+FP > 0 and FP+TN > 0 and TP+FN and TN+FN else 0.0\n",
    "    F1 = 2*TP/(2*TP+FP+FN)\n",
    "    Prec = TP/(TP+FP)\n",
    "    Recall = TP/(TP+FN)\n",
    "    \n",
    "    print(f'TP={TP}, FP={FP}, TN={TN}, FN={FN}, Sens={Sens:.4f}, Spec={Spec:.4f}, Acc={Acc:.4f}, MCC={MCC:.4f}, AUC={AUC:.4f}, F1={F1:.4f}, Prec={Prec:.4f}, Recall={Recall:.4f}\\n')\n",
    "\n",
    "    # Save the ROC values (fpr, tpr, AUC) for later use\n",
    "    def SAVEROC(fpr, tpr, AUC):\n",
    "        data_to_save = {\"fpr\": fpr.tolist(), \"tpr\": tpr.tolist(), \"AUC\": AUC}\n",
    "        with open(f\"C:/jupyter/Malik/SodiumTransporters/Code/PKL/{classifier_name}_{math.floor(time.time())}.pkl\", \"wb\") as file:\n",
    "            pickle.dump(data_to_save, file)\n",
    "        print(f\"ROC data saved to C:/jupyter/Malik/SodiumTransporters/Code/PKL/{classifier_name}_{math.floor(time.time())}.pkl\")\n",
    "\n",
    "    # Call SAVEROC to save the ROC data\n",
    "    SAVEROC(fpr, tpr, AUC)\n",
    "\n",
    "    return TP, FP, TN, FN, Sens, Spec, Acc, MCC, AUC, F1"
   ]
  },
  {
   "cell_type": "markdown",
   "id": "b41edec9-6b5a-4358-a3bf-db1881dc72cf",
   "metadata": {},
   "source": [
    "### Additional Test Set"
   ]
  },
  {
   "cell_type": "code",
   "execution_count": 7,
   "id": "e89840f1-3e44-423a-b722-63e4d9712ad2",
   "metadata": {},
   "outputs": [
    {
     "name": "stdout",
     "output_type": "stream",
     "text": [
      "C:/jupyter/Malik/SodiumTransporters/ProtTrans/All_Train_data.npy\n",
      "C:/jupyter/Malik/SodiumTransporters/ProtTrans/All_Train_labels.npy\n",
      "C:/jupyter/Malik/SodiumTransporters/ProtTrans/Additional_Test_Data.npy\n",
      "C:/jupyter/Malik/SodiumTransporters/ProtTrans/Additional_Test_Labels.npy\n"
     ]
    }
   ],
   "source": [
    "# Example usage:\n",
    "x_train,y_train,x_test,y_test= data_load.MCNN_data_load(NUM_CLASSES)"
   ]
  },
  {
   "cell_type": "code",
   "execution_count": 8,
   "id": "53bda882-c6a9-4ff7-8e61-28492832f105",
   "metadata": {},
   "outputs": [
    {
     "name": "stdout",
     "output_type": "stream",
     "text": [
      "(4638, 1, 1100, 1024)\n",
      "(4638, 2)\n",
      "(104, 1, 1100, 1024)\n",
      "(104, 2)\n"
     ]
    }
   ],
   "source": [
    "print(x_train.shape)\n",
    "print(y_train.shape)\n",
    "print(x_test.shape)\n",
    "print(y_test.shape)"
   ]
  },
  {
   "cell_type": "code",
   "execution_count": 11,
   "id": "92a16375-df3f-4ec6-8076-0725cb87ea61",
   "metadata": {
    "editable": true,
    "scrolled": true,
    "slideshow": {
     "slide_type": ""
    },
    "tags": []
   },
   "outputs": [
    {
     "name": "stdout",
     "output_type": "stream",
     "text": [
      "Model: \"deep_scan_1\"\n",
      "_________________________________________________________________\n",
      " Layer (type)                Output Shape              Param #   \n",
      "=================================================================\n",
      " conv2d_3 (Conv2D)           (None, 1, 1097, 64)       262208    \n",
      "                                                                 \n",
      " conv2d_4 (Conv2D)           (None, 1, 1093, 64)       524352    \n",
      "                                                                 \n",
      " conv2d_5 (Conv2D)           (None, 1, 1085, 64)       1048640   \n",
      "                                                                 \n",
      " max_pooling2d_3 (MaxPooling  (None, 1, 1, 64)         0         \n",
      " 2D)                                                             \n",
      "                                                                 \n",
      " max_pooling2d_4 (MaxPooling  (None, 1, 1, 64)         0         \n",
      " 2D)                                                             \n",
      "                                                                 \n",
      " max_pooling2d_5 (MaxPooling  (None, 1, 1, 64)         0         \n",
      " 2D)                                                             \n",
      "                                                                 \n",
      " flatten_3 (Flatten)         (None, 64)                0         \n",
      "                                                                 \n",
      " flatten_4 (Flatten)         (None, 64)                0         \n",
      "                                                                 \n",
      " flatten_5 (Flatten)         (None, 64)                0         \n",
      "                                                                 \n",
      " dropout_1 (Dropout)         (None, 192)               0         \n",
      "                                                                 \n",
      " dense_2 (Dense)             (None, 512)               98816     \n",
      "                                                                 \n",
      " dense_3 (Dense)             (None, 2)                 1026      \n",
      "                                                                 \n",
      "=================================================================\n",
      "Total params: 1,935,042\n",
      "Trainable params: 1,935,042\n",
      "Non-trainable params: 0\n",
      "_________________________________________________________________\n",
      "Epoch 1/25\n",
      "145/145 [==============================] - 20s 135ms/step - loss: 0.2080 - accuracy: 0.9467\n",
      "Epoch 2/25\n",
      "145/145 [==============================] - 19s 133ms/step - loss: 0.1179 - accuracy: 0.9681\n",
      "Epoch 3/25\n",
      "145/145 [==============================] - 19s 132ms/step - loss: 0.0659 - accuracy: 0.9825\n",
      "Epoch 4/25\n",
      "145/145 [==============================] - 19s 131ms/step - loss: 0.0596 - accuracy: 0.9856\n",
      "Epoch 5/25\n",
      "145/145 [==============================] - 19s 131ms/step - loss: 0.0318 - accuracy: 0.9929\n",
      "Epoch 6/25\n",
      "145/145 [==============================] - 19s 131ms/step - loss: 0.0317 - accuracy: 0.9918\n",
      "Epoch 7/25\n",
      "145/145 [==============================] - 19s 131ms/step - loss: 0.0166 - accuracy: 0.9959\n",
      "Epoch 8/25\n",
      "145/145 [==============================] - 19s 131ms/step - loss: 0.0158 - accuracy: 0.9968\n",
      "Epoch 9/25\n",
      "145/145 [==============================] - 19s 131ms/step - loss: 0.0212 - accuracy: 0.9940\n",
      "Epoch 10/25\n",
      "145/145 [==============================] - 19s 131ms/step - loss: 0.0169 - accuracy: 0.9953\n",
      "Epoch 11/25\n",
      "145/145 [==============================] - 19s 131ms/step - loss: 0.0136 - accuracy: 0.9963\n",
      "Epoch 12/25\n",
      "145/145 [==============================] - 19s 131ms/step - loss: 0.0244 - accuracy: 0.9925\n",
      "Epoch 13/25\n",
      "145/145 [==============================] - 19s 131ms/step - loss: 0.0184 - accuracy: 0.9961\n",
      "Epoch 14/25\n",
      "145/145 [==============================] - 19s 131ms/step - loss: 0.0140 - accuracy: 0.9959\n",
      "Epoch 15/25\n",
      "145/145 [==============================] - 19s 131ms/step - loss: 0.0157 - accuracy: 0.9944\n",
      "Epoch 16/25\n",
      "145/145 [==============================] - 19s 132ms/step - loss: 0.0121 - accuracy: 0.9957\n",
      "Epoch 17/25\n",
      "145/145 [==============================] - 19s 132ms/step - loss: 0.0144 - accuracy: 0.9963\n",
      "Epoch 18/25\n",
      "145/145 [==============================] - 19s 131ms/step - loss: 0.0110 - accuracy: 0.9968\n",
      "Epoch 19/25\n",
      "145/145 [==============================] - 19s 131ms/step - loss: 0.0133 - accuracy: 0.9968\n",
      "Epoch 20/25\n",
      "145/145 [==============================] - 19s 131ms/step - loss: 0.0174 - accuracy: 0.9961\n",
      "Epoch 21/25\n",
      "145/145 [==============================] - 19s 131ms/step - loss: 0.0150 - accuracy: 0.9968\n",
      "Epoch 22/25\n",
      "145/145 [==============================] - 19s 131ms/step - loss: 0.0073 - accuracy: 0.9981\n",
      "Epoch 23/25\n",
      "145/145 [==============================] - 19s 131ms/step - loss: 0.0069 - accuracy: 0.9983\n",
      "Epoch 24/25\n",
      "145/145 [==============================] - 19s 131ms/step - loss: 0.0104 - accuracy: 0.9972\n",
      "Epoch 25/25\n",
      "145/145 [==============================] - 19s 131ms/step - loss: 0.0074 - accuracy: 0.9983\n",
      "(104, 1, 1100, 1024)\n",
      "4/4 [==============================] - 0s 47ms/step\n",
      "Best Threshold=0.9995974898338318, G-Mean=0.9894176915848294\n",
      "TP=9, FP=2, TN=93, FN=0, Sens=1.0000, Spec=0.9789, Acc=0.9808, MCC=0.8950, AUC=0.9813, F1=0.9000, Prec=0.8182, Recall=1.0000\n",
      "\n",
      "ROC data saved to C:/jupyter/Malik/SodiumTransporters/Code/PKL/mCNN_1734764988.pkl\n"
     ]
    },
    {
     "data": {
      "image/png": "[encoded data removed]",
      "text/plain": [
       "<Figure size 640x480 with 1 Axes>"
      ]
     },
     "metadata": {},
     "output_type": "display_data"
    }
   ],
   "source": [
    "if VALIDATION_MODE == \"independent\":\n",
    "    generator = DataGenerator(x_train, y_train, batch_size=BATCH_SIZE)\n",
    "    \n",
    "    model = DeepScan(\n",
    "        num_filters=NUM_FILTER,\n",
    "        num_hidden=NUM_HIDDEN,\n",
    "        window_sizes=WINDOW_SIZES\n",
    "    )\n",
    "    model.compile(optimizer='adam', loss='categorical_crossentropy', metrics=['accuracy'])\n",
    "    model.build(input_shape=x_train.shape)\n",
    "    model.summary()\n",
    "    \n",
    "    # Train the model\n",
    "    model.fit(\n",
    "        generator,\n",
    "        epochs=EPOCHS,\n",
    "        shuffle=True,\n",
    "    )\n",
    "    \n",
    "        \n",
    "    TP, FP, TN, FN, Sens, Spec, Acc, MCC, AUC, F1 = model_test(model, x_test, y_test)"
   ]
  },
  {
   "cell_type": "code",
   "execution_count": null,
   "id": "a6dc7bd1-641d-4b45-bf9e-b6a307a209f6",
   "metadata": {
    "editable": true,
    "slideshow": {
     "slide_type": ""
    },
    "tags": []
   },
   "outputs": [],
   "source": []
  }
 ],
 "metadata": {
  "kernelspec": {
   "display_name": "Python 3 (ipykernel)",
   "language": "python",
   "name": "python3"
  },
  "language_info": {
   "codemirror_mode": {
    "name": "ipython",
    "version": 3
   },
   "file_extension": ".py",
   "mimetype": "text/x-python",
   "name": "python",
   "nbconvert_exporter": "python",
   "pygments_lexer": "ipython3",
   "version": "3.9.19"
  }
 },
 "nbformat": 4,
 "nbformat_minor": 5
}
